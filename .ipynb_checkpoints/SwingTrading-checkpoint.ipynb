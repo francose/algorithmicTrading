{
 "cells": [
  {
   "cell_type": "markdown",
   "metadata": {},
   "source": [
    "# Project: Swing Trading Methods"
   ]
  },
  {
   "cell_type": "code",
   "execution_count": 2,
   "metadata": {},
   "outputs": [],
   "source": [
    "# project dependencies\n",
    "import string\n",
    "import pandas as pd\n",
    "import numpy as np\n",
    "import matplotlib.pyplot as plt\n",
    "import requests \n",
    "from collections import Counter\n",
    "plt.style.use('fivethirtyeight')"
   ]
  },
  {
   "cell_type": "code",
   "execution_count": 3,
   "metadata": {},
   "outputs": [],
   "source": [
    "# Definition of the query below: \n",
    "# URL >> https://query1.finance.yahoo.com/v8/finance/chart/{$symbol}?range={$range}&interval={$interval}\n",
    "# symbol >> the stock ticker symbol, e.g. AAPL for Apple\n",
    "# range >> the desired range of the query, allowed parameters are [1d, 5d, 1mo, 3mo, 6mo, 1y, 2y, 5y, 10y, ytd, max]\n",
    "# interval >> the desired interval of the quote, e.g. every 5 minutes, allowed parameters are [1m, 2m, 5m, 15m, 30m, 60m, 90m, 1h, 1d, 5d, 1wk, 1mo, 3mo]\n",
    "\n",
    "\n",
    "# https://finance.yahoo.com/quote/AAPL/history?period1=1592006400&period2=1592438400&interval=1d&filter=history&frequency=1d\n",
    "\n",
    "# base_url= \"https://query1.finance.yahoo.com/v8/finance/chart/\"\n",
    "# def Url(sym, rng, INT):\n",
    "#     return base_url+sym+'?'+\"range=\"+rng+\"&interval=\"+INT\n"
   ]
  },
  {
   "cell_type": "markdown",
   "metadata": {},
   "source": [
    "### Creating first test case by initiating the first dataframe"
   ]
  },
  {
   "cell_type": "code",
   "execution_count": 18,
   "metadata": {},
   "outputs": [
    {
     "name": "stdout",
     "output_type": "stream",
     "text": [
      "https://query1.finance.yahoo.com/v8/finance/chart/AAL\n",
      "Name: Symbol, dtype: object?range=d&interval=5m\n"
     ]
    }
   ],
   "source": [
    "nasdaq_list= \"http://www.nasdaqtrader.com/dynamic/SymDir/nasdaqlisted.txt\"\n",
    "symbol_req= requests.get(nasdaq_list)\n",
    "\n",
    "# Symbol|Security Name|Market Category|Test Issue|Financial Status|Round Lot Size|ETF|NextShares\n",
    "s_cols =['Symbol', 'Security_Name', 'Market_Category','Test_Issue', 'Financial_Status', 'Round_Lot_Size', 'ETF', 'NextShares' ]\n",
    "\n",
    "companies= pd.read_csv(nasdaq_list, sep='|', names=s_cols)\n",
    "\n",
    "nasdaq_symbols=companies.Symbol\n",
    "\n",
    "# print(companies.head())\n",
    "user_req='American Airlines Group, Inc. - Common Stock'\n",
    "\n",
    "search_comp= companies[companies.Security_Name == user_req]\n",
    "\n",
    "filter__symbol_1=str(search_comp.Symbol)\n",
    "\n",
    "filter__symbol_2= ''.join([i for i in filter__symbol_1 if not i.isdigit()]) \n",
    "\n",
    "_symbol= filter__symbol_2.strip()\n",
    "\n",
    "\n",
    "\n",
    "select_range= [\"1d\", \"5d\", \"1mo\", \"3mo\", \"6mo\", \"1y\", \"2y\", \"5y\", \"10y\", \"ytd\", \"max\"]\n",
    "\n",
    "_range= select_range[1]\n",
    "\n",
    "  \n",
    "select_interval= [\"1m\", \"2m\", \"5m\", \"15m\", \"30m\", \"60m\", \"90m\", \"1h\", \"1d\", \"5d\", \"1wk\", \"1mo\", \"3mo\"]\n",
    "\n",
    "_interval=select_interval\n",
    "\n",
    "\n",
    "base_url= \"https://query1.finance.yahoo.com/v8/finance/chart/\"\n",
    "newURL = base_url+_symbol+'?'+\"range=\"+_range[1]+\"&interval=\"+_interval[2]\n",
    "# print(_interval[2])\n",
    "print(newURL)\n",
    "\n",
    "\n",
    "\n",
    "\n",
    "# def Gen_url(sym, rng, INT):\n",
    "#     print(base_url+sym+'?'+\"range=\"+rng+\"&interval=\"+INT)\n",
    "\n",
    "# Gen_url(symbol,_range, _interval)"
   ]
  },
  {
   "cell_type": "code",
   "execution_count": 57,
   "metadata": {},
   "outputs": [
    {
     "name": "stdout",
     "output_type": "stream",
     "text": [
      "            open          low        close      high       volume\n",
      "0    2612.060059  2618.254883  2601.209961  349038.0  2597.000000\n",
      "1    2610.010010  2613.839600  2612.110107   90096.0  2607.000000\n",
      "2    2618.929932  2621.476562  2610.889893  124915.0  2610.715088\n",
      "3    2608.860107  2620.989990  2618.650879   74807.0  2608.330078\n",
      "4    2609.629883  2613.084961  2608.803955   55057.0  2607.110107\n",
      "..           ...          ...          ...       ...          ...\n",
      "346  2648.850830  2649.197998  2644.869873   13900.0  2644.168213\n",
      "347  2652.772705  2653.429932  2648.905029   35771.0  2647.727051\n",
      "348  2650.600098  2652.419922  2652.419922   11683.0  2650.239990\n",
      "349          NaN          NaN          NaN       0.0          NaN\n",
      "350  2651.745117  2651.745117  2651.745117       0.0  2651.745117\n",
      "\n",
      "[351 rows x 5 columns]\n"
     ]
    }
   ],
   "source": [
    "baseURL = \"https://query1.finance.yahoo.com/v8/finance/chart/AMZN?range=5d&interval=5m\"\n",
    "req = requests.get(baseURL)\n",
    "rawJson = req.json()\n",
    "\n",
    "# raw_dataFrame = pd.DataFrame(req)\n",
    "\n",
    "indicators= list(rawJson[\"chart\"][\"result\"][0]) #indicators \n",
    "\n",
    "raw_data=rawJson['chart']['result'][0][indicators[2]]['quote'][0] #this is the values we are looking for \n",
    "\n",
    "column_name=list(raw_data.keys()) #collumn names we need \n",
    " \n",
    "df = pd.DataFrame(columns=column_name)  #dataframe \n",
    "df[column_name[0]] = raw_data['close']\n",
    "df[column_name[1]] = raw_data['high']\n",
    "df[column_name[2]] = raw_data['open']\n",
    "df[column_name[3]] = raw_data['volume']\n",
    "df[column_name[4]] = raw_data['low']\n",
    "print (df)\n",
    "\n",
    "#ploting the values to the graph\n",
    "\n"
   ]
  },
  {
   "cell_type": "code",
   "execution_count": 34,
   "metadata": {},
   "outputs": [
    {
     "ename": "SyntaxError",
     "evalue": "invalid syntax (<ipython-input-34-a277be8d99c5>, line 9)",
     "output_type": "error",
     "traceback": [
      "\u001b[0;36m  File \u001b[0;32m\"<ipython-input-34-a277be8d99c5>\"\u001b[0;36m, line \u001b[0;32m9\u001b[0m\n\u001b[0;31m    print(base_url+\"aap/\"+r[0]+i[0]+)\u001b[0m\n\u001b[0m                                    ^\u001b[0m\n\u001b[0;31mSyntaxError\u001b[0m\u001b[0;31m:\u001b[0m invalid syntax\n"
     ]
    }
   ],
   "source": [
    "r = [\"1d\", \"5d\", \"1mo\", \"3mo\", \"6mo\", \"1y\", \"2y\", \"5y\", \"10y\", \"ytd\", \"max\"]\n",
    "# _range= select_range[1]\n",
    "i = [\"1m\", \"2m\", \"5m\", \"15m\", \"30m\", \"60m\", \"90m\", \"1h\", \"1d\", \"5d\", \"1wk\", \"1mo\", \"3mo\"]\n",
    "# _interval=select_interval\n",
    "base_url= \"https://query1.finance.yahoo.com/v8/finance/chart/\"\n",
    "\n",
    "print(r[0]+\" \"+\"TEST\")\n",
    "print(i[0]+\" \"+\"TEST\")\n",
    "print(base_url+\"aap/\"+r[0]+i[0])\n",
    "\n",
    "\n",
    "# newURL = base_url+_symbol+'?'+\"range=\"+str(_range[1])+\"&interval=\"+str(_interval[2])\n",
    "# print(_interval[2])\n",
    "print(base_url+\"aap\"+\"?\"+\"range=\"+\"1d\"+\"&interval=\"+\"1h\")\n",
    "# print(newURL)\n",
    "\n"
   ]
  },
  {
   "cell_type": "code",
   "execution_count": null,
   "metadata": {},
   "outputs": [],
   "source": []
  }
 ],
 "metadata": {
  "kernelspec": {
   "display_name": "Python 3",
   "language": "python",
   "name": "python3"
  },
  "language_info": {
   "codemirror_mode": {
    "name": "ipython",
    "version": 3
   },
   "file_extension": ".py",
   "mimetype": "text/x-python",
   "name": "python",
   "nbconvert_exporter": "python",
   "pygments_lexer": "ipython3",
   "version": "3.7.4"
  }
 },
 "nbformat": 4,
 "nbformat_minor": 2
}
