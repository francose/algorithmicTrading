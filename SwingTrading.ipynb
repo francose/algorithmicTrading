{
 "cells": [
  {
   "cell_type": "markdown",
   "metadata": {},
   "source": [
    "# Project: Swing Trading Methods"
   ]
  },
  {
   "cell_type": "code",
   "execution_count": 2,
   "metadata": {},
   "outputs": [],
   "source": [
    "# project dependencies\n",
    "import pandas as pd\n",
    "import numpy as np\n",
    "import matplotlib.pyplot as plt\n",
    "import requests \n",
    "from collections import Counter\n",
    "plt.style.use('fivethirtyeight')"
   ]
  },
  {
   "cell_type": "code",
   "execution_count": 3,
   "metadata": {},
   "outputs": [],
   "source": [
    "# Definition of the query below: \n",
    "# URL >> https://query1.finance.yahoo.com/v8/finance/chart/{$symbol}?range={$range}&interval={$interval}\n",
    "# symbol >> the stock ticker symbol, e.g. AAPL for Apple\n",
    "# range >> the desired range of the query, allowed parameters are [1d, 5d, 1mo, 3mo, 6mo, 1y, 2y, 5y, 10y, ytd, max]\n",
    "# interval >> the desired interval of the quote, e.g. every 5 minutes, allowed parameters are [1m, 2m, 5m, 15m, 30m, 60m, 90m, 1h, 1d, 5d, 1wk, 1mo, 3mo]\n",
    "\n",
    "\n",
    "# https://finance.yahoo.com/quote/AAPL/history?period1=1592006400&period2=1592438400&interval=1d&filter=history&frequency=1d"
   ]
  },
  {
   "cell_type": "markdown",
   "metadata": {},
   "source": [
    "### Creating first test case by initiating the first dataframe"
   ]
  },
  {
   "cell_type": "code",
   "execution_count": 27,
   "metadata": {},
   "outputs": [
    {
     "name": "stdout",
     "output_type": "stream",
     "text": [
      "                                                     0\n",
      "0    b'{\"chart\":{\"result\":[{\"meta\":{\"currency\":\"USD...\n",
      "1    b'3703000,\"regularMarketTime\":1592494662,\"gmto...\n",
      "2    b'ketPrice\":2645.503,\"chartPreviousClose\":2557...\n",
      "3    b'timezone\":\"EDT\",\"end\":1592487000,\"start\":159...\n",
      "4    b'2487000,\"gmtoffset\":-14400},\"post\":{\"timezon...\n",
      "..                                                 ...\n",
      "207  b'9765625,2641.659912109375,2638.719970703125,...\n",
      "208  b'42.93994140625,2647.010009765625,2658.989990...\n",
      "209  b'679931640625,2647.81005859375,2651.819580078...\n",
      "210  b'4140625,2643.510009765625,2643.97998046875,2...\n",
      "211  b'25,2650.989990234375,2652.280029296875,2650....\n",
      "\n",
      "[212 rows x 1 columns]\n"
     ]
    }
   ],
   "source": [
    "baseURL = \"https://query1.finance.yahoo.com/v8/finance/chart/AMZN?range=5d&interval=5m\"\n",
    "req = requests.get(baseURL)\n",
    "# print(req)\n",
    "\n",
    "raw_dataFrame = pd.DataFrame(req)\n",
    "\n",
    "print(raw_dataFrame)"
   ]
  },
  {
   "cell_type": "code",
   "execution_count": null,
   "metadata": {},
   "outputs": [],
   "source": []
  },
  {
   "cell_type": "code",
   "execution_count": null,
   "metadata": {},
   "outputs": [],
   "source": []
  }
 ],
 "metadata": {
  "kernelspec": {
   "display_name": "Python 3",
   "language": "python",
   "name": "python3"
  },
  "language_info": {
   "codemirror_mode": {
    "name": "ipython",
    "version": 3
   },
   "file_extension": ".py",
   "mimetype": "text/x-python",
   "name": "python",
   "nbconvert_exporter": "python",
   "pygments_lexer": "ipython3",
   "version": "3.7.6"
  }
 },
 "nbformat": 4,
 "nbformat_minor": 2
}
