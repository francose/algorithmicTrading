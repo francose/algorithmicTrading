{
 "cells": [
  {
   "cell_type": "markdown",
   "metadata": {},
   "source": [
    "# Project: Swing Trading Methods"
   ]
  },
  {
   "cell_type": "code",
   "execution_count": 2,
   "metadata": {},
   "outputs": [],
   "source": [
    "# project dependencies\n",
    "import pandas as pd\n",
    "import numpy as np\n",
    "import matplotlib.pyplot as plt\n",
    "import requests \n",
    "from collections import Counter\n",
    "plt.style.use('fivethirtyeight')"
   ]
  },
  {
   "cell_type": "code",
   "execution_count": 3,
   "metadata": {},
   "outputs": [],
   "source": [
    "# Definition of the query below: \n",
    "# URL >> https://query1.finance.yahoo.com/v8/finance/chart/{$symbol}?range={$range}&interval={$interval}\n",
    "# symbol >> the stock ticker symbol, e.g. AAPL for Apple\n",
    "# range >> the desired range of the query, allowed parameters are [1d, 5d, 1mo, 3mo, 6mo, 1y, 2y, 5y, 10y, ytd, max]\n",
    "# interval >> the desired interval of the quote, e.g. every 5 minutes, allowed parameters are [1m, 2m, 5m, 15m, 30m, 60m, 90m, 1h, 1d, 5d, 1wk, 1mo, 3mo]\n",
    "\n",
    "\n",
    "# https://finance.yahoo.com/quote/AAPL/history?period1=1592006400&period2=1592438400&interval=1d&filter=history&frequency=1d"
   ]
  },
  {
   "cell_type": "markdown",
   "metadata": {},
   "source": [
    "### Creating first test case by initiating the first dataframe"
   ]
  },
  {
   "cell_type": "code",
   "execution_count": 57,
   "metadata": {},
   "outputs": [
    {
     "name": "stdout",
     "output_type": "stream",
     "text": [
      "            open          low        close      high       volume\n",
      "0    2612.060059  2618.254883  2601.209961  349038.0  2597.000000\n",
      "1    2610.010010  2613.839600  2612.110107   90096.0  2607.000000\n",
      "2    2618.929932  2621.476562  2610.889893  124915.0  2610.715088\n",
      "3    2608.860107  2620.989990  2618.650879   74807.0  2608.330078\n",
      "4    2609.629883  2613.084961  2608.803955   55057.0  2607.110107\n",
      "..           ...          ...          ...       ...          ...\n",
      "346  2648.850830  2649.197998  2644.869873   13900.0  2644.168213\n",
      "347  2652.772705  2653.429932  2648.905029   35771.0  2647.727051\n",
      "348  2650.600098  2652.419922  2652.419922   11683.0  2650.239990\n",
      "349          NaN          NaN          NaN       0.0          NaN\n",
      "350  2651.745117  2651.745117  2651.745117       0.0  2651.745117\n",
      "\n",
      "[351 rows x 5 columns]\n"
     ]
    }
   ],
   "source": [
    "baseURL = \"https://query1.finance.yahoo.com/v8/finance/chart/AMZN?range=5d&interval=5m\"\n",
    "req = requests.get(baseURL)\n",
    "rawJson = req.json()\n",
    "\n",
    "# raw_dataFrame = pd.DataFrame(req)\n",
    "\n",
    "indicators= list(rawJson[\"chart\"][\"result\"][0]) #indicators \n",
    "\n",
    "raw_data=rawJson['chart']['result'][0][indicators[2]]['quote'][0] #this is the values we are looking for \n",
    "\n",
    "column_name=list(raw_data.keys()) #collumn names we need \n",
    "\n",
    "df = pd.DataFrame(columns=column_name)\n",
    "df[column_name[0]] = raw_data['close']\n",
    "df[column_name[1]] = raw_data['high']\n",
    "df[column_name[2]] = raw_data['open']\n",
    "df[column_name[3]] = raw_data['volume']\n",
    "df[column_name[4]] = raw_data['low']\n",
    "print (df)"
   ]
  },
  {
   "cell_type": "code",
   "execution_count": null,
   "metadata": {},
   "outputs": [],
   "source": []
  },
  {
   "cell_type": "code",
   "execution_count": null,
   "metadata": {},
   "outputs": [],
   "source": []
  }
 ],
 "metadata": {
  "kernelspec": {
   "display_name": "Python 3",
   "language": "python",
   "name": "python3"
  },
  "language_info": {
   "codemirror_mode": {
    "name": "ipython",
    "version": 3
   },
   "file_extension": ".py",
   "mimetype": "text/x-python",
   "name": "python",
   "nbconvert_exporter": "python",
   "pygments_lexer": "ipython3",
   "version": "3.7.6"
  }
 },
 "nbformat": 4,
 "nbformat_minor": 2
}
